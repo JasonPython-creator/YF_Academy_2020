{
 "cells": [
  {
   "cell_type": "markdown",
   "metadata": {},
   "source": [
    "## What You'll Learn: Compute with Turtles"
   ]
  },
  {
   "cell_type": "markdown",
   "metadata": {},
   "source": [
    "A turtle here is not an animal. We are working with a virtual turtle, an idea that dates back to the 1960’s. The original\n",
    "robot turtle had a physical pen in it. The student-programmers would steer the robot around using programs, and \n",
    "create drawings with the pen.\n",
    "\n",
    "Today, we can play with virtual turtles in a fully-graphical and non-robotic way. Below is a Python program that first\n",
    "reads in a library that contains the code to let us work with turtles (from turtle import *). Then it creates a Screen, \n",
    "a space on the page for the turtle to move in and draw on (space = Screen()). Next it creates a turtle named alex\n",
    "(alex = Turtle()), then has alex move around on the screen (alex.forward(150)) and when it moves it will draw. The part of\n",
    "any line that starts with a # character is called a comment. Python and the computer ignores everything from the # \n",
    "character to the end of the line. Comments explain what we’re doing in the programs and are intended to be read by \n",
    "people, not computers."
   ]
  },
  {
   "cell_type": "code",
   "execution_count": null,
   "metadata": {},
   "outputs": [],
   "source": [
    "from turtle import *      # use the turtle library\n",
    "space = Screen()          # create a turtle screen (space)\n",
    "bob = Turtle()            # create a turtle named bob\n",
    "\n",
    "# Make a square\n",
    "bob.forward(100)          # tell bob to move forward by 100 units\n",
    "bob.right(90)             # turn right by 90 degrees\n",
    "bob.forward(100)          # tell bob to move forward by 100 units\n",
    "bob.right(90)             # turn right by 90 degrees\n",
    "bob.forward(100)          # tell bob to move forward by 100 units\n",
    "bob.right(90)             # turn right by 90 degrees\n",
    "bob.forward(100)          # tell bob to move forward by 100 units\n",
    "\n",
    "# Position for roof\n",
    "bob.right(90)\n",
    "\n",
    "# Make a roof\n",
    "bob.forward(100)          # tell bob to move forward by 100 units\n",
    "bob.right(-120)           # turn LEFT by 120 degrees\n",
    "bob.forward(100)          # tell bob to move forward by 100 units\n",
    "bob.right(-120)           # turn LEFT by 120 degrees\n",
    "bob.forward(100)          # tell bob to move forward by 100 units\n",
    "bob.right(-120)           # turn LEFT by 120 degrees"
   ]
  },
  {
   "cell_type": "code",
   "execution_count": null,
   "metadata": {},
   "outputs": [],
   "source": []
  },
  {
   "cell_type": "markdown",
   "metadata": {},
   "source": [
    "You can draw a block style C with a turtle. Can you draw more than one letter? You would have to use the penup() procedure to pick up the pen and then move to the new location to draw the second letter and then put the pen down using pendown() as shown in the example below."
   ]
  },
  {
   "cell_type": "code",
   "execution_count": null,
   "metadata": {},
   "outputs": [],
   "source": [
    "from turtle import *  # use the turtle library\n",
    "space = Screen()      # create a turtle space\n",
    "ji = Turtle()         # create a turtle named ji\n",
    "ji.right(180)         # turn right by 180 degrees\n",
    "ji.forward(75)        # move forward by 75 units\n",
    "ji.right(90)          # turn right 90 degrees\n",
    "ji.forward(100)       # more forward by 90 units\n",
    "ji.right(90)          # turn right 90 degrees\n",
    "ji.forward(75)        # move forward by 75 units\n",
    "ji.penup()            # pick up the pen\n",
    "ji.forward(50)        # move forward 50 units\n",
    "ji.pendown()          # put the pen down\n",
    "ji.right(90)          # turn right 90 degrees\n",
    "ji.forward(100)       # go forward 100 units\n",
    "ji.left(90)           # turn left 90 degrees\n",
    "ji.forward(75)        # go forward 75 units"
   ]
  },
  {
   "cell_type": "code",
   "execution_count": null,
   "metadata": {},
   "outputs": [],
   "source": []
  },
  {
   "cell_type": "code",
   "execution_count": null,
   "metadata": {},
   "outputs": [],
   "source": []
  },
  {
   "cell_type": "markdown",
   "metadata": {},
   "source": [
    "The program below uses the goto(x,y) to move to the top left corner before drawing a square that nearly fills the drawing space."
   ]
  },
  {
   "cell_type": "code",
   "execution_count": 6,
   "metadata": {},
   "outputs": [],
   "source": [
    "from turtle import *  # use the turtle library\n",
    "space = Screen()      # create a turtle space\n",
    "anu = Turtle()        # create a turtle named anu\n",
    "anu.penup()           # pick up the pen (don't draw)\n",
    "anu.goto(-150,150)    # go to the top left corner\n",
    "anu.pendown()         # put down the pen\n",
    "anu.forward(300)      # move forward by 300 pixels\n",
    "anu.right(90)         # turn right 90 degrees\n",
    "anu.forward(300)      # move forward by 300 pixels\n",
    "anu.right(90)         # turn right 90 degrees\n",
    "anu.forward(300)      # move forward by 300 pixels\n",
    "anu.right(90)         # turn right 90 degrees\n",
    "anu.forward(300)      # move forward by 300 pixels\n"
   ]
  },
  {
   "cell_type": "code",
   "execution_count": null,
   "metadata": {},
   "outputs": [],
   "source": []
  },
  {
   "cell_type": "markdown",
   "metadata": {},
   "source": [
    "You can change the color and pensize that you draw with as well."
   ]
  },
  {
   "cell_type": "code",
   "execution_count": 7,
   "metadata": {},
   "outputs": [],
   "source": [
    "from turtle import *  # use the turtle library\n",
    "space = Screen()      # create a turtle space\n",
    "anu = Turtle()        # create a turtle named anu\n",
    "anu.color('orange')      # set the color to red\n",
    "anu.pensize(25)       # set the size of the pen\n",
    "anu.right(360)        # turn right by 180 degrees\n",
    "anu.forward(75)       # move forward by 75 units\n",
    "anu.right(90)         # turn right 90 degrees\n",
    "anu.color('blue')     # set the color to blue\n",
    "anu.pensize(50)       # set the pen size to 10\n",
    "anu.forward(100)      # move forward by 100 units"
   ]
  },
  {
   "cell_type": "code",
   "execution_count": null,
   "metadata": {},
   "outputs": [],
   "source": []
  },
  {
   "cell_type": "code",
   "execution_count": null,
   "metadata": {},
   "outputs": [],
   "source": []
  },
  {
   "cell_type": "markdown",
   "metadata": {},
   "source": [
    "## Practice"
   ]
  },
  {
   "cell_type": "markdown",
   "metadata": {},
   "source": [
    "The following example has 4 errors. Can you fix the errors so that the code runs correctly to print a capital L?"
   ]
  },
  {
   "cell_type": "code",
   "execution_count": 3,
   "metadata": {},
   "outputs": [
    {
     "ename": "TypeError",
     "evalue": "right() missing 1 required positional argument: 'angle'",
     "output_type": "error",
     "traceback": [
      "\u001b[0;31m---------------------------------------------------------------------------\u001b[0m",
      "\u001b[0;31mTypeError\u001b[0m                                 Traceback (most recent call last)",
      "\u001b[0;32m<ipython-input-3-25e29c36dca7>\u001b[0m in \u001b[0;36m<module>\u001b[0;34m\u001b[0m\n\u001b[1;32m      2\u001b[0m \u001b[0mspace\u001b[0m \u001b[0;34m=\u001b[0m \u001b[0mScreen\u001b[0m\u001b[0;34m(\u001b[0m\u001b[0;34m)\u001b[0m        \u001b[0;31m# create a turtle space\u001b[0m\u001b[0;34m\u001b[0m\u001b[0;34m\u001b[0m\u001b[0m\n\u001b[1;32m      3\u001b[0m \u001b[0malisha\u001b[0m \u001b[0;34m=\u001b[0m \u001b[0mTurtle\u001b[0m         \u001b[0;31m# create a turtle named alisha\u001b[0m\u001b[0;34m\u001b[0m\u001b[0;34m\u001b[0m\u001b[0m\n\u001b[0;32m----> 4\u001b[0;31m \u001b[0malisha\u001b[0m\u001b[0;34m.\u001b[0m\u001b[0mright\u001b[0m\u001b[0;34m(\u001b[0m\u001b[0;36m90\u001b[0m\u001b[0;34m)\u001b[0m        \u001b[0;31m# turn alisha south\u001b[0m\u001b[0;34m\u001b[0m\u001b[0;34m\u001b[0m\u001b[0m\n\u001b[0m\u001b[1;32m      5\u001b[0m \u001b[0malisha\u001b[0m\u001b[0;34m.\u001b[0m\u001b[0mforward\u001b[0m          \u001b[0;31m# move forward by 150 units\u001b[0m\u001b[0;34m\u001b[0m\u001b[0;34m\u001b[0m\u001b[0m\n\u001b[1;32m      6\u001b[0m \u001b[0malisha\u001b[0m\u001b[0;34m.\u001b[0m\u001b[0mleft\u001b[0m\u001b[0;34m(\u001b[0m\u001b[0;36m90\u001b[0m\u001b[0;34m)\u001b[0m         \u001b[0;31m# turn to face east\u001b[0m\u001b[0;34m\u001b[0m\u001b[0;34m\u001b[0m\u001b[0m\n",
      "\u001b[0;31mTypeError\u001b[0m: right() missing 1 required positional argument: 'angle'"
     ]
    }
   ],
   "source": [
    "from turtle import *    # use the turtle library\n",
    "space = Screen()        # create a turtle space\n",
    "alisha = Turtle         # create a turtle named alisha\n",
    "alisha.right(90)        # turn alisha south\n",
    "alisha.forward          # move forward by 150 units\n",
    "alisha.left(90)         # turn to face east\n",
    "alisha.Forward(75)      # move forward by 75 units\n"
   ]
  },
  {
   "cell_type": "code",
   "execution_count": null,
   "metadata": {},
   "outputs": [],
   "source": []
  },
  {
   "cell_type": "code",
   "execution_count": null,
   "metadata": {},
   "outputs": [],
   "source": []
  },
  {
   "cell_type": "markdown",
   "metadata": {},
   "source": [
    "The following example has 4 errors. Can you fix the errors so that the code runs correctly to print a capital C?"
   ]
  },
  {
   "cell_type": "code",
   "execution_count": 5,
   "metadata": {},
   "outputs": [
    {
     "ename": "TypeError",
     "evalue": "left() missing 1 required positional argument: 'angle'",
     "output_type": "error",
     "traceback": [
      "\u001b[0;31m---------------------------------------------------------------------------\u001b[0m",
      "\u001b[0;31mTypeError\u001b[0m                                 Traceback (most recent call last)",
      "\u001b[0;32m<ipython-input-5-4df92cbbc1f4>\u001b[0m in \u001b[0;36m<module>\u001b[0;34m\u001b[0m\n\u001b[1;32m      2\u001b[0m \u001b[0mspace\u001b[0m \u001b[0;34m=\u001b[0m \u001b[0mScreen\u001b[0m\u001b[0;34m(\u001b[0m\u001b[0;34m)\u001b[0m        \u001b[0;31m# create a turtle space\u001b[0m\u001b[0;34m\u001b[0m\u001b[0;34m\u001b[0m\u001b[0m\n\u001b[1;32m      3\u001b[0m \u001b[0malex\u001b[0m \u001b[0;34m=\u001b[0m \u001b[0mTurtle\u001b[0m           \u001b[0;31m# create a turtle named alex\u001b[0m\u001b[0;34m\u001b[0m\u001b[0;34m\u001b[0m\u001b[0m\n\u001b[0;32m----> 4\u001b[0;31m \u001b[0malex\u001b[0m\u001b[0;34m.\u001b[0m\u001b[0mleft\u001b[0m\u001b[0;34m(\u001b[0m\u001b[0;36m180\u001b[0m\u001b[0;34m)\u001b[0m          \u001b[0;31m# turn alex by 180 degrees\u001b[0m\u001b[0;34m\u001b[0m\u001b[0;34m\u001b[0m\u001b[0m\n\u001b[0m\u001b[1;32m      5\u001b[0m \u001b[0malex\u001b[0m\u001b[0;34m.\u001b[0m\u001b[0mforward\u001b[0m\u001b[0;34m(\u001b[0m\u001b[0;36m75\u001b[0m\u001b[0;34m)\u001b[0m        \u001b[0;31m# move forward by 75 units\u001b[0m\u001b[0;34m\u001b[0m\u001b[0;34m\u001b[0m\u001b[0m\n\u001b[1;32m      6\u001b[0m \u001b[0malex\u001b[0m\u001b[0;34m.\u001b[0m\u001b[0mturn\u001b[0m\u001b[0;34m(\u001b[0m\u001b[0;36m90\u001b[0m\u001b[0;34m)\u001b[0m           \u001b[0;31m# turn left 90 degrees\u001b[0m\u001b[0;34m\u001b[0m\u001b[0;34m\u001b[0m\u001b[0m\n",
      "\u001b[0;31mTypeError\u001b[0m: left() missing 1 required positional argument: 'angle'"
     ]
    }
   ],
   "source": [
    "from turtle import *    # use the turtle library\n",
    "space = Screen()        # create a turtle space\n",
    "alex = Turtle           # create a turtle named alex\n",
    "alex.left(180)          # turn alex by 180 degrees\n",
    "alex.forward(75)        # move forward by 75 units\n",
    "alex.turn(90)           # turn left 90 degrees\n",
    "alex.forward(100)       # more forward by 100 units\n",
    "alex.left(90)           # turn left 90 degrees\n",
    "alex.forward            # move forward by 75 units"
   ]
  },
  {
   "cell_type": "code",
   "execution_count": null,
   "metadata": {},
   "outputs": [],
   "source": []
  },
  {
   "cell_type": "markdown",
   "metadata": {},
   "source": [
    "Use the area below to try to draw a letter or number. Use block style rather than curves."
   ]
  },
  {
   "cell_type": "code",
   "execution_count": null,
   "metadata": {},
   "outputs": [],
   "source": []
  }
 ],
 "metadata": {
  "kernelspec": {
   "display_name": "Python 3",
   "language": "python",
   "name": "python3"
  },
  "language_info": {
   "codemirror_mode": {
    "name": "ipython",
    "version": 3
   },
   "file_extension": ".py",
   "mimetype": "text/x-python",
   "name": "python",
   "nbconvert_exporter": "python",
   "pygments_lexer": "ipython3",
   "version": "3.7.6"
  }
 },
 "nbformat": 4,
 "nbformat_minor": 4
}
