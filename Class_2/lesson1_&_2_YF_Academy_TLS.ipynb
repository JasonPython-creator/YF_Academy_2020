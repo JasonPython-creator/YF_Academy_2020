{
 "cells": [
  {
   "cell_type": "markdown",
   "metadata": {},
   "source": [
    "## What You'll Learn: Compute with Turtles"
   ]
  },
  {
   "cell_type": "markdown",
   "metadata": {},
   "source": [
    "A turtle here is not an animal. We are working with a virtual turtle, an idea that dates back to the 1960’s. The original\n",
    "robot turtle had a physical pen in it. The student-programmers would steer the robot around using programs, and \n",
    "create drawings with the pen.\n",
    "\n",
    "Today, we can play with virtual turtles in a fully-graphical and non-robotic way. Below is a Python program that first\n",
    "reads in a library that contains the code to let us work with turtles (from turtle import *). Then it creates a Screen, \n",
    "a space on the page for the turtle to move in and draw on (space = Screen()). Next it creates a turtle named alex\n",
    "(alex = Turtle()), then has alex move around on the screen (alex.forward(150)) and when it moves it will draw. The part of\n",
    "any line that starts with a # character is called a comment. Python and the computer ignores everything from the # \n",
    "character to the end of the line. Comments explain what we’re doing in the programs and are intended to be read by \n",
    "people, not computers."
   ]
  },
  {
   "cell_type": "code",
   "execution_count": 1,
   "metadata": {},
   "outputs": [],
   "source": [
    "#pip install ipyturtle$ jupyter nbextension enable --py --sys-prefix ipyturtle"
   ]
  },
  {
   "cell_type": "markdown",
   "metadata": {},
   "source": [
    "### Overview of Python & Jupyter"
   ]
  },
  {
   "cell_type": "markdown",
   "metadata": {},
   "source": [
    "#### Install Packages & Import Libraries\n",
    "- What are the differences between packages and libraries?\n",
    "- How are installing and importing different?\n",
    "- Why are packages and libraries important/useful?"
   ]
  },
  {
   "cell_type": "code",
   "execution_count": 2,
   "metadata": {},
   "outputs": [
    {
     "name": "stdout",
     "output_type": "stream",
     "text": [
      "Collecting mobilechelonian\n",
      "\u001b[?25l  Downloading https://files.pythonhosted.org/packages/2c/89/d79cde973e8b0ab504bbea6d494b7fd7d6e2b4d6a8931b0b19a21368ab9b/mobilechelonian-0.5-py2.py3-none-any.whl (94kB)\n",
      "\u001b[K     |████████████████████████████████| 102kB 1.4MB/s ta 0:00:011\n",
      "\u001b[?25hRequirement already satisfied: ipywidgets>=7.0.0 in /Users/taurusstantz/opt/anaconda3/lib/python3.7/site-packages (from mobilechelonian) (7.5.1)\n",
      "Requirement already satisfied: IPython in /Users/taurusstantz/opt/anaconda3/lib/python3.7/site-packages (from mobilechelonian) (7.8.0)\n",
      "Requirement already satisfied: traitlets>=4.3.1 in /Users/taurusstantz/opt/anaconda3/lib/python3.7/site-packages (from ipywidgets>=7.0.0->mobilechelonian) (4.3.3)\n",
      "Requirement already satisfied: ipykernel>=4.5.1 in /Users/taurusstantz/opt/anaconda3/lib/python3.7/site-packages (from ipywidgets>=7.0.0->mobilechelonian) (5.1.2)\n",
      "Requirement already satisfied: widgetsnbextension~=3.5.0 in /Users/taurusstantz/opt/anaconda3/lib/python3.7/site-packages (from ipywidgets>=7.0.0->mobilechelonian) (3.5.1)\n",
      "Requirement already satisfied: nbformat>=4.2.0 in /Users/taurusstantz/opt/anaconda3/lib/python3.7/site-packages (from ipywidgets>=7.0.0->mobilechelonian) (4.4.0)\n",
      "Requirement already satisfied: jedi>=0.10 in /Users/taurusstantz/opt/anaconda3/lib/python3.7/site-packages (from IPython->mobilechelonian) (0.15.1)\n",
      "Requirement already satisfied: backcall in /Users/taurusstantz/opt/anaconda3/lib/python3.7/site-packages (from IPython->mobilechelonian) (0.1.0)\n",
      "Requirement already satisfied: pexpect; sys_platform != \"win32\" in /Users/taurusstantz/opt/anaconda3/lib/python3.7/site-packages (from IPython->mobilechelonian) (4.7.0)\n",
      "Requirement already satisfied: decorator in /Users/taurusstantz/opt/anaconda3/lib/python3.7/site-packages (from IPython->mobilechelonian) (4.4.0)\n",
      "Requirement already satisfied: pygments in /Users/taurusstantz/opt/anaconda3/lib/python3.7/site-packages (from IPython->mobilechelonian) (2.4.2)\n",
      "Requirement already satisfied: prompt-toolkit<2.1.0,>=2.0.0 in /Users/taurusstantz/opt/anaconda3/lib/python3.7/site-packages (from IPython->mobilechelonian) (2.0.10)\n",
      "Requirement already satisfied: appnope; sys_platform == \"darwin\" in /Users/taurusstantz/opt/anaconda3/lib/python3.7/site-packages (from IPython->mobilechelonian) (0.1.0)\n",
      "Requirement already satisfied: setuptools>=18.5 in /Users/taurusstantz/opt/anaconda3/lib/python3.7/site-packages (from IPython->mobilechelonian) (41.4.0)\n",
      "Requirement already satisfied: pickleshare in /Users/taurusstantz/opt/anaconda3/lib/python3.7/site-packages (from IPython->mobilechelonian) (0.7.5)\n",
      "Requirement already satisfied: six in /Users/taurusstantz/opt/anaconda3/lib/python3.7/site-packages (from traitlets>=4.3.1->ipywidgets>=7.0.0->mobilechelonian) (1.12.0)\n",
      "Requirement already satisfied: ipython-genutils in /Users/taurusstantz/opt/anaconda3/lib/python3.7/site-packages (from traitlets>=4.3.1->ipywidgets>=7.0.0->mobilechelonian) (0.2.0)\n",
      "Requirement already satisfied: jupyter-client in /Users/taurusstantz/opt/anaconda3/lib/python3.7/site-packages (from ipykernel>=4.5.1->ipywidgets>=7.0.0->mobilechelonian) (5.3.3)\n",
      "Requirement already satisfied: tornado>=4.2 in /Users/taurusstantz/opt/anaconda3/lib/python3.7/site-packages (from ipykernel>=4.5.1->ipywidgets>=7.0.0->mobilechelonian) (6.0.3)\n",
      "Requirement already satisfied: notebook>=4.4.1 in /Users/taurusstantz/opt/anaconda3/lib/python3.7/site-packages (from widgetsnbextension~=3.5.0->ipywidgets>=7.0.0->mobilechelonian) (6.0.1)\n",
      "Requirement already satisfied: jsonschema!=2.5.0,>=2.4 in /Users/taurusstantz/opt/anaconda3/lib/python3.7/site-packages (from nbformat>=4.2.0->ipywidgets>=7.0.0->mobilechelonian) (3.0.2)\n",
      "Requirement already satisfied: jupyter-core in /Users/taurusstantz/opt/anaconda3/lib/python3.7/site-packages (from nbformat>=4.2.0->ipywidgets>=7.0.0->mobilechelonian) (4.5.0)\n",
      "Requirement already satisfied: parso>=0.5.0 in /Users/taurusstantz/opt/anaconda3/lib/python3.7/site-packages (from jedi>=0.10->IPython->mobilechelonian) (0.5.1)\n",
      "Requirement already satisfied: ptyprocess>=0.5 in /Users/taurusstantz/opt/anaconda3/lib/python3.7/site-packages (from pexpect; sys_platform != \"win32\"->IPython->mobilechelonian) (0.6.0)\n",
      "Requirement already satisfied: wcwidth in /Users/taurusstantz/opt/anaconda3/lib/python3.7/site-packages (from prompt-toolkit<2.1.0,>=2.0.0->IPython->mobilechelonian) (0.1.7)\n",
      "Requirement already satisfied: python-dateutil>=2.1 in /Users/taurusstantz/opt/anaconda3/lib/python3.7/site-packages (from jupyter-client->ipykernel>=4.5.1->ipywidgets>=7.0.0->mobilechelonian) (2.8.0)\n",
      "Requirement already satisfied: pyzmq>=13 in /Users/taurusstantz/opt/anaconda3/lib/python3.7/site-packages (from jupyter-client->ipykernel>=4.5.1->ipywidgets>=7.0.0->mobilechelonian) (18.1.0)\n",
      "Requirement already satisfied: prometheus-client in /Users/taurusstantz/opt/anaconda3/lib/python3.7/site-packages (from notebook>=4.4.1->widgetsnbextension~=3.5.0->ipywidgets>=7.0.0->mobilechelonian) (0.7.1)\n",
      "Requirement already satisfied: terminado>=0.8.1 in /Users/taurusstantz/opt/anaconda3/lib/python3.7/site-packages (from notebook>=4.4.1->widgetsnbextension~=3.5.0->ipywidgets>=7.0.0->mobilechelonian) (0.8.2)\n",
      "Requirement already satisfied: jinja2 in /Users/taurusstantz/opt/anaconda3/lib/python3.7/site-packages (from notebook>=4.4.1->widgetsnbextension~=3.5.0->ipywidgets>=7.0.0->mobilechelonian) (2.10.3)\n",
      "Requirement already satisfied: Send2Trash in /Users/taurusstantz/opt/anaconda3/lib/python3.7/site-packages (from notebook>=4.4.1->widgetsnbextension~=3.5.0->ipywidgets>=7.0.0->mobilechelonian) (1.5.0)\n",
      "Requirement already satisfied: nbconvert in /Users/taurusstantz/opt/anaconda3/lib/python3.7/site-packages (from notebook>=4.4.1->widgetsnbextension~=3.5.0->ipywidgets>=7.0.0->mobilechelonian) (5.6.0)\n",
      "Requirement already satisfied: pyrsistent>=0.14.0 in /Users/taurusstantz/opt/anaconda3/lib/python3.7/site-packages (from jsonschema!=2.5.0,>=2.4->nbformat>=4.2.0->ipywidgets>=7.0.0->mobilechelonian) (0.15.4)\n",
      "Requirement already satisfied: attrs>=17.4.0 in /Users/taurusstantz/opt/anaconda3/lib/python3.7/site-packages (from jsonschema!=2.5.0,>=2.4->nbformat>=4.2.0->ipywidgets>=7.0.0->mobilechelonian) (19.2.0)\n",
      "Requirement already satisfied: MarkupSafe>=0.23 in /Users/taurusstantz/opt/anaconda3/lib/python3.7/site-packages (from jinja2->notebook>=4.4.1->widgetsnbextension~=3.5.0->ipywidgets>=7.0.0->mobilechelonian) (1.1.1)\n",
      "Requirement already satisfied: entrypoints>=0.2.2 in /Users/taurusstantz/opt/anaconda3/lib/python3.7/site-packages (from nbconvert->notebook>=4.4.1->widgetsnbextension~=3.5.0->ipywidgets>=7.0.0->mobilechelonian) (0.3)\n",
      "Requirement already satisfied: mistune<2,>=0.8.1 in /Users/taurusstantz/opt/anaconda3/lib/python3.7/site-packages (from nbconvert->notebook>=4.4.1->widgetsnbextension~=3.5.0->ipywidgets>=7.0.0->mobilechelonian) (0.8.4)\n",
      "Requirement already satisfied: bleach in /Users/taurusstantz/opt/anaconda3/lib/python3.7/site-packages (from nbconvert->notebook>=4.4.1->widgetsnbextension~=3.5.0->ipywidgets>=7.0.0->mobilechelonian) (3.1.0)\n",
      "Requirement already satisfied: defusedxml in /Users/taurusstantz/opt/anaconda3/lib/python3.7/site-packages (from nbconvert->notebook>=4.4.1->widgetsnbextension~=3.5.0->ipywidgets>=7.0.0->mobilechelonian) (0.6.0)\n",
      "Requirement already satisfied: pandocfilters>=1.4.1 in /Users/taurusstantz/opt/anaconda3/lib/python3.7/site-packages (from nbconvert->notebook>=4.4.1->widgetsnbextension~=3.5.0->ipywidgets>=7.0.0->mobilechelonian) (1.4.2)\n",
      "Requirement already satisfied: testpath in /Users/taurusstantz/opt/anaconda3/lib/python3.7/site-packages (from nbconvert->notebook>=4.4.1->widgetsnbextension~=3.5.0->ipywidgets>=7.0.0->mobilechelonian) (0.4.2)\n",
      "Requirement already satisfied: webencodings in /Users/taurusstantz/opt/anaconda3/lib/python3.7/site-packages (from bleach->nbconvert->notebook>=4.4.1->widgetsnbextension~=3.5.0->ipywidgets>=7.0.0->mobilechelonian) (0.5.1)\n",
      "Installing collected packages: mobilechelonian\n",
      "Successfully installed mobilechelonian-0.5\n",
      "Note: you may need to restart the kernel to use updated packages.\n"
     ]
    }
   ],
   "source": [
    "pip install mobilechelonian"
   ]
  },
  {
   "cell_type": "code",
   "execution_count": 3,
   "metadata": {},
   "outputs": [],
   "source": [
    "from mobilechelonian import Turtle"
   ]
  },
  {
   "cell_type": "markdown",
   "metadata": {},
   "source": [
    "#### The Python Language:\n",
    "- Interpretive vs. compiled\n",
    "- datatypes\n",
    "- syntax"
   ]
  },
  {
   "cell_type": "code",
   "execution_count": null,
   "metadata": {},
   "outputs": [],
   "source": [
    "x = 'hello'\n",
    "print(x)\n",
    "print(type(x))"
   ]
  },
  {
   "cell_type": "code",
   "execution_count": null,
   "metadata": {},
   "outputs": [],
   "source": [
    "x = 2\n",
    "print(x)\n",
    "print(type(x))"
   ]
  },
  {
   "cell_type": "code",
   "execution_count": null,
   "metadata": {},
   "outputs": [],
   "source": [
    "x = 2.0\n",
    "print(x)\n",
    "print(type(x))"
   ]
  },
  {
   "cell_type": "code",
   "execution_count": null,
   "metadata": {},
   "outputs": [],
   "source": [
    "x = []\n",
    "print(x)\n",
    "print(type(x))"
   ]
  },
  {
   "cell_type": "code",
   "execution_count": null,
   "metadata": {},
   "outputs": [],
   "source": [
    "y = [1, 2, 3]\n",
    "print(y)\n",
    "print(type(y))"
   ]
  },
  {
   "cell_type": "code",
   "execution_count": null,
   "metadata": {},
   "outputs": [],
   "source": [
    "x = ['1','2','3']\n",
    "print(x)\n",
    "print(type(x))"
   ]
  },
  {
   "cell_type": "code",
   "execution_count": null,
   "metadata": {},
   "outputs": [],
   "source": [
    "# list indexing\n",
    "print(x[0], ' - ', x[1], ' - ', x[2])"
   ]
  },
  {
   "cell_type": "code",
   "execution_count": null,
   "metadata": {},
   "outputs": [],
   "source": [
    "# types within lists\n",
    "print(type(x[0]))"
   ]
  },
  {
   "cell_type": "code",
   "execution_count": null,
   "metadata": {},
   "outputs": [],
   "source": [
    "for elmt in x:\n",
    "    print(elmt)"
   ]
  },
  {
   "cell_type": "code",
   "execution_count": null,
   "metadata": {},
   "outputs": [],
   "source": [
    "for elmt in y:\n",
    "    print(elmt+10)"
   ]
  },
  {
   "cell_type": "code",
   "execution_count": 5,
   "metadata": {},
   "outputs": [
    {
     "name": "stdout",
     "output_type": "stream",
     "text": [
      "[4, 5, 6]\n"
     ]
    }
   ],
   "source": [
    "# grab last two elements\n",
    "c = [1,2,3,4,5,6]\n",
    "print(c[-3:])"
   ]
  },
  {
   "cell_type": "code",
   "execution_count": 8,
   "metadata": {},
   "outputs": [
    {
     "name": "stdout",
     "output_type": "stream",
     "text": [
      "[3, 4, 5, 6]\n"
     ]
    }
   ],
   "source": [
    "# grab first two elements\n",
    "c = [1,2,3,4,5,6]\n",
    "print(c[2:])"
   ]
  },
  {
   "cell_type": "code",
   "execution_count": 13,
   "metadata": {},
   "outputs": [
    {
     "name": "stdout",
     "output_type": "stream",
     "text": [
      "[3, 4]\n"
     ]
    }
   ],
   "source": [
    "# grab middle two elements\n",
    "c = [1,2,3,4,5,6]\n",
    "print(c[2:-2])"
   ]
  },
  {
   "cell_type": "markdown",
   "metadata": {},
   "source": [
    "## Objects"
   ]
  },
  {
   "cell_type": "code",
   "execution_count": 16,
   "metadata": {},
   "outputs": [
    {
     "data": {
      "application/vnd.jupyter.widget-view+json": {
       "model_id": "82bfb8b559fc4d5db698edc0f577113f",
       "version_major": 2,
       "version_minor": 0
      },
      "text/plain": [
       "Turtle()"
      ]
     },
     "metadata": {},
     "output_type": "display_data"
    }
   ],
   "source": [
    "\n",
    "t = Turtle()"
   ]
  },
  {
   "cell_type": "code",
   "execution_count": 18,
   "metadata": {},
   "outputs": [],
   "source": [
    "# *** go forward ***\n",
    "t.forward(50)"
   ]
  },
  {
   "cell_type": "code",
   "execution_count": 21,
   "metadata": {},
   "outputs": [],
   "source": [
    "# *** turning\n",
    "t.right(90)"
   ]
  },
  {
   "cell_type": "code",
   "execution_count": 22,
   "metadata": {},
   "outputs": [],
   "source": [
    "# *** turning left ***\n",
    "t.left(90)"
   ]
  },
  {
   "cell_type": "code",
   "execution_count": 23,
   "metadata": {},
   "outputs": [],
   "source": [
    "t.left(90)"
   ]
  },
  {
   "cell_type": "code",
   "execution_count": 24,
   "metadata": {},
   "outputs": [],
   "source": [
    "# *** turning (dgrees) ***\n",
    "#t.left(90)\n",
    "t.left(150)"
   ]
  },
  {
   "cell_type": "code",
   "execution_count": 25,
   "metadata": {},
   "outputs": [],
   "source": [
    "t.forward(50)"
   ]
  },
  {
   "cell_type": "markdown",
   "metadata": {},
   "source": [
    "### Dictionaries"
   ]
  },
  {
   "cell_type": "code",
   "execution_count": null,
   "metadata": {},
   "outputs": [],
   "source": [
    "import pandas"
   ]
  },
  {
   "cell_type": "code",
   "execution_count": null,
   "metadata": {},
   "outputs": [],
   "source": [
    "dict_obj = {'name':[\"aparna\", \"pankaj\", \"sudhir\", \"Geeku\"], \n",
    "        'degree': [\"MBA\", \"BCA\", \"M.Tech\", \"MBA\"], \n",
    "        'score':[90, 40, 80, 98]}"
   ]
  },
  {
   "cell_type": "code",
   "execution_count": null,
   "metadata": {},
   "outputs": [],
   "source": [
    "print(dict_obj)"
   ]
  },
  {
   "cell_type": "code",
   "execution_count": null,
   "metadata": {},
   "outputs": [],
   "source": [
    "print(dict_obj.keys())"
   ]
  },
  {
   "cell_type": "code",
   "execution_count": null,
   "metadata": {},
   "outputs": [],
   "source": [
    "print(dict_obj.values())"
   ]
  },
  {
   "cell_type": "code",
   "execution_count": null,
   "metadata": {},
   "outputs": [],
   "source": [
    "print(dict_obj['name'])"
   ]
  },
  {
   "cell_type": "code",
   "execution_count": null,
   "metadata": {},
   "outputs": [],
   "source": [
    "print(dict_obj.get('name'))"
   ]
  },
  {
   "cell_type": "code",
   "execution_count": null,
   "metadata": {},
   "outputs": [],
   "source": [
    "print(dict_obj.get('name')[0])"
   ]
  },
  {
   "cell_type": "code",
   "execution_count": null,
   "metadata": {},
   "outputs": [],
   "source": [
    "# Question, how would I index the middle two names of this dictionary???\n",
    "print(dict_obj.get('name')[:])"
   ]
  },
  {
   "cell_type": "markdown",
   "metadata": {},
   "source": [
    "### Classes"
   ]
  },
  {
   "cell_type": "code",
   "execution_count": 33,
   "metadata": {},
   "outputs": [],
   "source": [
    "class MyClass:\n",
    "    x = 5\n",
    "    y = 10\n",
    "  "
   ]
  },
  {
   "cell_type": "code",
   "execution_count": 34,
   "metadata": {},
   "outputs": [],
   "source": [
    "tmp = MyClass()"
   ]
  },
  {
   "cell_type": "code",
   "execution_count": 35,
   "metadata": {},
   "outputs": [],
   "source": [
    "#print(tmp)"
   ]
  },
  {
   "cell_type": "code",
   "execution_count": 32,
   "metadata": {},
   "outputs": [],
   "source": [
    "#tmp.x += 2"
   ]
  },
  {
   "cell_type": "code",
   "execution_count": 39,
   "metadata": {},
   "outputs": [
    {
     "name": "stdout",
     "output_type": "stream",
     "text": [
      "10\n"
     ]
    }
   ],
   "source": [
    "print(tmp.y)"
   ]
  },
  {
   "cell_type": "code",
   "execution_count": 40,
   "metadata": {},
   "outputs": [
    {
     "name": "stdout",
     "output_type": "stream",
     "text": [
      "5\n"
     ]
    }
   ],
   "source": [
    "print(tmp.x)"
   ]
  },
  {
   "cell_type": "markdown",
   "metadata": {},
   "source": [
    "##### basic class & init\n",
    "- To understand the meaning of classes we have to understand the built-in __init__() function.\n",
    "\n",
    "- All classes have a function called __init__(), which is always executed when the class is being initiated.\n",
    "\n",
    "- Use the __init__() function to assign values to object properties, or other operations that are necessary to do when the object is being created:"
   ]
  },
  {
   "cell_type": "code",
   "execution_count": 41,
   "metadata": {},
   "outputs": [
    {
     "name": "stdout",
     "output_type": "stream",
     "text": [
      "John\n",
      "36\n"
     ]
    }
   ],
   "source": [
    "# basic class & init\n",
    "class Person:\n",
    "  def __init__(self, name, age):\n",
    "    self.name = name\n",
    "    self.age = age\n",
    "\n",
    "p1 = Person(\"John\", 36)\n",
    "\n",
    "print(p1.name)\n",
    "print(p1.age)\n"
   ]
  },
  {
   "cell_type": "markdown",
   "metadata": {},
   "source": [
    "##### basic class methods\n",
    "- Objects can also contain methods. Methods in objects are functions that belong to the object"
   ]
  },
  {
   "cell_type": "code",
   "execution_count": 42,
   "metadata": {},
   "outputs": [
    {
     "name": "stdout",
     "output_type": "stream",
     "text": [
      "Hello my name is John\n"
     ]
    }
   ],
   "source": [
    "# object methods\n",
    "class Person:\n",
    "  def __init__(self, name, age):\n",
    "    self.name = name\n",
    "    self.age = age\n",
    "\n",
    "  def myfunc(self):\n",
    "    print(\"Hello my name is \" + self.name)\n",
    "\n",
    "p1 = Person(\"John\", 36)\n",
    "p1.myfunc()"
   ]
  },
  {
   "cell_type": "markdown",
   "metadata": {},
   "source": [
    "##### basic class self parameter\n",
    "- The self parameter is a reference to the current instance of the class, and is used to access variables that belongs to the class.\n",
    "\n",
    "- It does not have to be named self , you can call it whatever you like, but it has to be the first parameter of any function in the class:"
   ]
  },
  {
   "cell_type": "code",
   "execution_count": 43,
   "metadata": {},
   "outputs": [
    {
     "name": "stdout",
     "output_type": "stream",
     "text": [
      "Hello my name is John\n"
     ]
    }
   ],
   "source": [
    "# the self parameter\n",
    "class Person:\n",
    "  def __init__(mysillyobject, name, age):\n",
    "    mysillyobject.name = name\n",
    "    mysillyobject.age = age\n",
    "\n",
    "  def myfunc(abc):\n",
    "    print(\"Hello my name is \" + abc.name)\n",
    "\n",
    "p1 = Person(\"John\", 36)\n",
    "p1.myfunc()"
   ]
  },
  {
   "cell_type": "code",
   "execution_count": null,
   "metadata": {},
   "outputs": [],
   "source": []
  },
  {
   "cell_type": "markdown",
   "metadata": {},
   "source": [
    "### Reset and Make a House!"
   ]
  },
  {
   "cell_type": "code",
   "execution_count": 45,
   "metadata": {},
   "outputs": [
    {
     "data": {
      "application/vnd.jupyter.widget-view+json": {
       "model_id": "591373341bed4cddacdb8902adc7f3cd",
       "version_major": 2,
       "version_minor": 0
      },
      "text/plain": [
       "Turtle()"
      ]
     },
     "metadata": {},
     "output_type": "display_data"
    }
   ],
   "source": [
    "t = Turtle()"
   ]
  },
  {
   "cell_type": "code",
   "execution_count": 46,
   "metadata": {},
   "outputs": [],
   "source": [
    "# Make a square\n",
    "t.forward(100)          # move forward by 100 units\n",
    "t.right(90)             # turn right by 90 degrees\n",
    "t.forward(100)          # move forward by 100 units\n",
    "t.right(90)             # turn right by 90 degrees\n",
    "t.forward(100)          # move forward by 100 units\n",
    "t.right(90)             # turn right by 90 degrees\n",
    "t.forward(100)          # move forward by 100 units\n",
    "\n",
    "# Position for roof\n",
    "t.right(45)\n",
    "\n",
    "# # Make a roof\n",
    "t.forward(70)          # move forward by 100 units\n",
    "t.right(90)           # turn right by 45 degrees\n",
    "t.forward(70)          # move forward by 100 units\n",
    "\n"
   ]
  },
  {
   "cell_type": "code",
   "execution_count": null,
   "metadata": {},
   "outputs": [],
   "source": []
  },
  {
   "cell_type": "markdown",
   "metadata": {},
   "source": [
    "### Reset and Make Letters!"
   ]
  },
  {
   "cell_type": "code",
   "execution_count": null,
   "metadata": {},
   "outputs": [],
   "source": [
    "t.reset()"
   ]
  },
  {
   "cell_type": "markdown",
   "metadata": {},
   "source": [
    "You can draw a block style U with a turtle. Can you draw more than one letter? You would have to use the penup() procedure to pick up the pen and then move to the new location to draw the second letter and then put the pen down using pendown() as shown in the example below."
   ]
  },
  {
   "cell_type": "code",
   "execution_count": null,
   "metadata": {},
   "outputs": [],
   "source": [
    "#from turtle import *  # use the turtle library\n",
    "#space = Screen()      # create a turtle space\n",
    "t = Turtle()         # create a turtle named ji\n",
    "t.right(180)         # turn right by 180 degrees\n",
    "t.forward(75)        # move forward by 75 units\n",
    "t.right(90)          # turn right 90 degrees\n",
    "t.forward(100)       # more forward by 90 units\n",
    "t.right(90)          # turn right 90 degrees\n",
    "t.forward(75)        # move forward by 75 units\n",
    "\n",
    "# *** write and 'M' above the \"U\"\n",
    "\n",
    "t.penup()            # pick up the pen\n",
    "t.forward(50)        # move forward 50 units\n",
    "t.pendown()          # put the pen down\n",
    "t.left(0)          # turn right 90 degrees\n",
    "t.forward(75)       # go forward 100 units\n",
    "t.right(90)           # turn left 90 degrees\n",
    "t.forward(50)        # go forward 75 units\n",
    "t.right(90)\n",
    "t.forward(75)\n",
    "t.right(180)\n",
    "t.forward(75)\n",
    "t.right(90)           # turn left 90 degrees\n",
    "t.forward(50)        # go forward 75 units\n",
    "t.right(90)\n",
    "t.forward(75)\n",
    "\n",
    "\n"
   ]
  },
  {
   "cell_type": "code",
   "execution_count": null,
   "metadata": {},
   "outputs": [],
   "source": []
  },
  {
   "cell_type": "markdown",
   "metadata": {},
   "source": [
    "### Reset and Make Shapes!"
   ]
  },
  {
   "cell_type": "code",
   "execution_count": null,
   "metadata": {},
   "outputs": [],
   "source": [
    "t = Turtle()"
   ]
  },
  {
   "cell_type": "markdown",
   "metadata": {},
   "source": [
    "The program below uses the goto(x,y) to move to the top left corner before drawing a square that nearly fills the drawing space."
   ]
  },
  {
   "cell_type": "code",
   "execution_count": null,
   "metadata": {},
   "outputs": [],
   "source": [
    "#t.reset()\n",
    "t.penup()           # pick up the pen (don't draw)\n",
    "#t.goto(-150,150)    # go to the top left corner\n",
    "t.pendown()         # put down the pen\n",
    "t.forward(20)      # move forward by 300 pixels\n",
    "t.right(20)         # turn right 90 degrees\n",
    "t.forward(20)      # move forward by 300 pixels\n",
    "t.right(20)         # turn right 90 degrees\n",
    "t.forward(20)      # move forward by 300 pixels\n",
    "t.right(20)         # turn right 90 degrees\n",
    "t.forward(20)      # move forward by 300 pixels\n",
    "t.right(20)         # turn right 90 degrees\n",
    "t.forward(20)      # move forward by 300 pixels\n",
    "t.right(20)         # turn right 90 degrees\n",
    "t.forward(20)      # move forward by 300 pixels\n"
   ]
  },
  {
   "cell_type": "code",
   "execution_count": null,
   "metadata": {},
   "outputs": [],
   "source": []
  },
  {
   "cell_type": "markdown",
   "metadata": {},
   "source": [
    "You can change the color and pensize that you draw with as well."
   ]
  },
  {
   "cell_type": "code",
   "execution_count": null,
   "metadata": {},
   "outputs": [],
   "source": [
    "#pip install turtles"
   ]
  },
  {
   "cell_type": "code",
   "execution_count": null,
   "metadata": {},
   "outputs": [],
   "source": [
    "#pip install mobilechelonian"
   ]
  },
  {
   "cell_type": "code",
   "execution_count": 48,
   "metadata": {},
   "outputs": [
    {
     "data": {
      "application/vnd.jupyter.widget-view+json": {
       "model_id": "f0089e7232604bb7bc32423970dfab5f",
       "version_major": 2,
       "version_minor": 0
      },
      "text/plain": [
       "Turtle()"
      ]
     },
     "metadata": {},
     "output_type": "display_data"
    }
   ],
   "source": [
    "from mobilechelonian import Turtle\n",
    "t = Turtle()\n",
    "t.speed(10)\n",
    "\n",
    "# create a list of strings\n",
    "colours=[\"red\",\"blue\",\"yellow\",\"green\"]\n",
    "\n",
    "#t.penup(); t.left(90); t.forward(200);t.right(90);t.pendown()\n",
    "for i in range (0,8):\n",
    "    t.pencolor(colours[i%4])\n",
    "    t.right(90)\n",
    "    t.forward(50)\n",
    "\n",
    "t.right(180)\n",
    "t.home()"
   ]
  },
  {
   "cell_type": "code",
   "execution_count": 52,
   "metadata": {},
   "outputs": [
    {
     "data": {
      "application/vnd.jupyter.widget-view+json": {
       "model_id": "3b6ca4b5c62341b6bcc3bb55f3ff0202",
       "version_major": 2,
       "version_minor": 0
      },
      "text/plain": [
       "Turtle()"
      ]
     },
     "metadata": {},
     "output_type": "display_data"
    }
   ],
   "source": [
    "from mobilechelonian import Turtle\n",
    "t = Turtle()\n",
    "t.speed(5)\n",
    "colours=[\"red\",\"blue\",\"yellow\",\"brown\",\"black\",\"purple\",\"orange\"]\n",
    "\n",
    "t.penup(); t.left(90); t.forward(200);t.right(90);t.pendown()\n",
    "for i in range (0,18):\n",
    "    t.pencolor(colours[i%7])\n",
    "    t.right(20)\n",
    "    t.forward(50)\n",
    "\n",
    "t.right(180)\n",
    "t.home()"
   ]
  },
  {
   "cell_type": "code",
   "execution_count": null,
   "metadata": {},
   "outputs": [],
   "source": []
  },
  {
   "cell_type": "code",
   "execution_count": null,
   "metadata": {},
   "outputs": [],
   "source": []
  },
  {
   "cell_type": "markdown",
   "metadata": {},
   "source": [
    "## Practice"
   ]
  },
  {
   "cell_type": "markdown",
   "metadata": {},
   "source": [
    "The following example has 4 errors. Can you fix the errors so that the code runs correctly to print a capital L?"
   ]
  },
  {
   "cell_type": "code",
   "execution_count": null,
   "metadata": {},
   "outputs": [],
   "source": [
    "#t = Turtle()\n",
    "t.right(90)        # turn alisha south\n",
    "t.forward          # move forward by 150 units\n",
    "t.left(90)         # turn to face east\n",
    "t.Forward(75)      # move forward by 75 units\n"
   ]
  },
  {
   "cell_type": "code",
   "execution_count": null,
   "metadata": {},
   "outputs": [],
   "source": []
  },
  {
   "cell_type": "markdown",
   "metadata": {},
   "source": [
    "The following example has 4 errors. Can you fix the errors so that the code runs correctly to print a capital C?"
   ]
  },
  {
   "cell_type": "code",
   "execution_count": null,
   "metadata": {},
   "outputs": [],
   "source": [
    "alex = Turtle()\n",
    "alex.left(180)          # turn alex by 180 degrees\n",
    "alex.forward(75)        # move forward by 75 units\n",
    "alex.turn(90)           # turn left 90 degrees\n",
    "alex.forward(100)       # more forward by 100 units\n",
    "alex.left(90)           # turn left 90 degrees\n",
    "alex.forward            # move forward by 75 units"
   ]
  },
  {
   "cell_type": "code",
   "execution_count": null,
   "metadata": {},
   "outputs": [],
   "source": []
  },
  {
   "cell_type": "markdown",
   "metadata": {},
   "source": [
    "Use the area below to try to draw a letter or number. Use block style rather than curves."
   ]
  },
  {
   "cell_type": "code",
   "execution_count": null,
   "metadata": {},
   "outputs": [],
   "source": [
    "t = Turtle()"
   ]
  },
  {
   "cell_type": "code",
   "execution_count": null,
   "metadata": {},
   "outputs": [],
   "source": []
  },
  {
   "cell_type": "markdown",
   "metadata": {},
   "source": [
    "#### Bonus: Make your own house!"
   ]
  },
  {
   "cell_type": "code",
   "execution_count": null,
   "metadata": {},
   "outputs": [],
   "source": [
    "t = Turtle()"
   ]
  },
  {
   "cell_type": "code",
   "execution_count": null,
   "metadata": {},
   "outputs": [],
   "source": []
  }
 ],
 "metadata": {
  "hide_input": false,
  "kernelspec": {
   "display_name": "Python 3",
   "language": "python",
   "name": "python3"
  },
  "language_info": {
   "codemirror_mode": {
    "name": "ipython",
    "version": 3
   },
   "file_extension": ".py",
   "mimetype": "text/x-python",
   "name": "python",
   "nbconvert_exporter": "python",
   "pygments_lexer": "ipython3",
   "version": "3.7.4"
  },
  "toc": {
   "base_numbering": 1,
   "nav_menu": {},
   "number_sections": true,
   "sideBar": true,
   "skip_h1_title": false,
   "title_cell": "Table of Contents",
   "title_sidebar": "Contents",
   "toc_cell": false,
   "toc_position": {},
   "toc_section_display": true,
   "toc_window_display": false
  },
  "varInspector": {
   "cols": {
    "lenName": 16,
    "lenType": 16,
    "lenVar": 40
   },
   "kernels_config": {
    "python": {
     "delete_cmd_postfix": "",
     "delete_cmd_prefix": "del ",
     "library": "var_list.py",
     "varRefreshCmd": "print(var_dic_list())"
    },
    "r": {
     "delete_cmd_postfix": ") ",
     "delete_cmd_prefix": "rm(",
     "library": "var_list.r",
     "varRefreshCmd": "cat(var_dic_list()) "
    }
   },
   "types_to_exclude": [
    "module",
    "function",
    "builtin_function_or_method",
    "instance",
    "_Feature"
   ],
   "window_display": false
  }
 },
 "nbformat": 4,
 "nbformat_minor": 4
}
